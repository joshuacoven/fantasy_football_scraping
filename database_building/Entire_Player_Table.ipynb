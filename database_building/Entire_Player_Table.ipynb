{
 "cells": [
  {
   "cell_type": "code",
   "execution_count": 1,
   "metadata": {},
   "outputs": [],
   "source": [
    "###################### Import Packages #############################################\n",
    "import requests\n",
    "import numpy as np\n",
    "import pandas as pd\n",
    "from bs4 import BeautifulSoup\n",
    "import statsmodels.formula.api as smf\n",
    "from ffb_functions import *\n",
    "pd.set_option('display.max_columns', 500)\n",
    "pd.options.display.max_rows = 999"
   ]
  },
  {
   "cell_type": "code",
   "execution_count": 2,
   "metadata": {},
   "outputs": [],
   "source": [
    "############## Assemble the database #########################################\n",
    "\n",
    "database = pd.read_csv('profootballreference.csv')\n"
   ]
  },
  {
   "cell_type": "code",
   "execution_count": 18,
   "metadata": {},
   "outputs": [],
   "source": [
    "db = database.loc[pd.notna(database.FantPos)\n",
    "                 & (database.Year > 2000)\n",
    "                 ].reset_index(drop = True)\n",
    "\n",
    "# list of unique players (doesnt account for the  mike williams' yet)\n",
    "db['UID'] = pd.factorize(db.Name+db.FantPos)[0]\n",
    "db\n",
    "\n",
    "db = db.merge(db.groupby('UID').max().reset_index()[['UID','Year'\n",
    "                                                    ]].rename(columns = \n",
    "                                                              {'Year':'Last_Year'})\n",
    "                            , on = 'UID', how = 'left')\n",
    "db = db.merge(db.groupby('UID').min().reset_index()[['UID','Year'\n",
    "                                                    ]].rename(columns = \n",
    "                                                              {'Year':'First_Year'})\n",
    "                            , on = 'UID', how = 'left')\n",
    "\n"
   ]
  },
  {
   "cell_type": "code",
   "execution_count": 31,
   "metadata": {},
   "outputs": [
    {
     "data": {
      "text/html": [
       "<div>\n",
       "<style scoped>\n",
       "    .dataframe tbody tr th:only-of-type {\n",
       "        vertical-align: middle;\n",
       "    }\n",
       "\n",
       "    .dataframe tbody tr th {\n",
       "        vertical-align: top;\n",
       "    }\n",
       "\n",
       "    .dataframe thead th {\n",
       "        text-align: right;\n",
       "    }\n",
       "</style>\n",
       "<table border=\"1\" class=\"dataframe\">\n",
       "  <thead>\n",
       "    <tr style=\"text-align: right;\">\n",
       "      <th></th>\n",
       "      <th>Name</th>\n",
       "      <th>FantPos</th>\n",
       "      <th>UID</th>\n",
       "      <th>First_Year</th>\n",
       "      <th>Last_Year</th>\n",
       "      <th>Year</th>\n",
       "    </tr>\n",
       "  </thead>\n",
       "  <tbody>\n",
       "    <tr>\n",
       "      <td>24535</td>\n",
       "      <td>Amari Cooper</td>\n",
       "      <td>WR</td>\n",
       "      <td>2101</td>\n",
       "      <td>2015</td>\n",
       "      <td>2018</td>\n",
       "      <td>2015</td>\n",
       "    </tr>\n",
       "    <tr>\n",
       "      <td>24536</td>\n",
       "      <td>Amari Cooper</td>\n",
       "      <td>WR</td>\n",
       "      <td>2101</td>\n",
       "      <td>2015</td>\n",
       "      <td>2018</td>\n",
       "      <td>2016</td>\n",
       "    </tr>\n",
       "    <tr>\n",
       "      <td>24537</td>\n",
       "      <td>Amari Cooper</td>\n",
       "      <td>WR</td>\n",
       "      <td>2101</td>\n",
       "      <td>2015</td>\n",
       "      <td>2018</td>\n",
       "      <td>2017</td>\n",
       "    </tr>\n",
       "    <tr>\n",
       "      <td>24538</td>\n",
       "      <td>Amari Cooper</td>\n",
       "      <td>WR</td>\n",
       "      <td>2101</td>\n",
       "      <td>2015</td>\n",
       "      <td>2018</td>\n",
       "      <td>2018</td>\n",
       "    </tr>\n",
       "  </tbody>\n",
       "</table>\n",
       "</div>"
      ],
      "text/plain": [
       "               Name FantPos   UID  First_Year  Last_Year  Year\n",
       "24535  Amari Cooper      WR  2101        2015       2018  2015\n",
       "24536  Amari Cooper      WR  2101        2015       2018  2016\n",
       "24537  Amari Cooper      WR  2101        2015       2018  2017\n",
       "24538  Amari Cooper      WR  2101        2015       2018  2018"
      ]
     },
     "execution_count": 31,
     "metadata": {},
     "output_type": "execute_result"
    }
   ],
   "source": [
    "# create row for each player for each year from their first year in data to their last year\n",
    "one = db[['Name', 'FantPos', 'UID', 'First_Year', 'Last_Year']].drop_duplicates().reset_index(drop = True)\n",
    "two = db.groupby(['First_Year', 'Last_Year']).count().reset_index()[['First_Year', 'Last_Year']]\n",
    "two = two.rename(columns = {'Last_Year': 'Year'})\n",
    "three = one.merge(two, on = ['First_Year'], how = 'outer')\n",
    "\n",
    "three.loc[three.Name == 'Amari Cooper']"
   ]
  }
 ],
 "metadata": {
  "kernelspec": {
   "display_name": "Python 3",
   "language": "python",
   "name": "python3"
  },
  "language_info": {
   "codemirror_mode": {
    "name": "ipython",
    "version": 3
   },
   "file_extension": ".py",
   "mimetype": "text/x-python",
   "name": "python",
   "nbconvert_exporter": "python",
   "pygments_lexer": "ipython3",
   "version": "3.7.4"
  }
 },
 "nbformat": 4,
 "nbformat_minor": 2
}
